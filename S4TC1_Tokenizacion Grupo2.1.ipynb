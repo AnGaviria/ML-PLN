{
 "cells": [
  {
   "cell_type": "markdown",
   "metadata": {},
   "source": [
    "![image info](https://raw.githubusercontent.com/albahnsen/MIAD_ML_and_NLP/main/images/banner_1.png)"
   ]
  },
  {
   "cell_type": "markdown",
   "metadata": {},
   "source": [
    "# Taller: Tokenización de textos  \n",
    "\n",
    "En este taller podrán poner en práctica sus conocimientos sobre preprocesamiento de texto (tokenización). El taller está constituido por 5 puntos, en los cuales deberan seguir las intrucciones de cada numeral para su desarrollo."
   ]
  },
  {
   "cell_type": "markdown",
   "metadata": {},
   "source": [
    "## Datos detección de toxicidad en comentarios\n",
    "\n",
    "En este taller se usará el conjunto de datos de detección de toxicidad en comentarios de la base de datos de Kaggle. Cada observación es un comentario que tiene como variable objetivo (target) la probabilidad de ser un comentario tóxico. El objetivo es predecir la toxicidad de cada comentario. Para más detalles pueden visitar el siguiente enlace: [datos](https://www.kaggle.com/c/jigsaw-unintended-bias-in-toxicity-classification/data)."
   ]
  },
  {
   "cell_type": "code",
   "execution_count": 1,
   "metadata": {},
   "outputs": [],
   "source": [
    "import warnings\n",
    "warnings.filterwarnings('ignore')"
   ]
  },
  {
   "cell_type": "code",
   "execution_count": 2,
   "metadata": {},
   "outputs": [],
   "source": [
    "# Importación librerías\n",
    "import pandas as pd\n",
    "import numpy as np\n",
    "import matplotlib.pyplot as plt\n",
    "\n",
    "import scipy as sp\n",
    "from sklearn.model_selection import train_test_split, cross_val_score\n",
    "from sklearn.feature_extraction.text import CountVectorizer, TfidfVectorizer\n",
    "from sklearn import metrics\n",
    "%matplotlib inline\n",
    "\n",
    "from sklearn.model_selection import GridSearchCV\n",
    "from sklearn.ensemble import RandomForestRegressor\n"
   ]
  },
  {
   "cell_type": "code",
   "execution_count": 3,
   "metadata": {},
   "outputs": [
    {
     "data": {
      "text/html": [
       "<div>\n",
       "<style scoped>\n",
       "    .dataframe tbody tr th:only-of-type {\n",
       "        vertical-align: middle;\n",
       "    }\n",
       "\n",
       "    .dataframe tbody tr th {\n",
       "        vertical-align: top;\n",
       "    }\n",
       "\n",
       "    .dataframe thead th {\n",
       "        text-align: right;\n",
       "    }\n",
       "</style>\n",
       "<table border=\"1\" class=\"dataframe\">\n",
       "  <thead>\n",
       "    <tr style=\"text-align: right;\">\n",
       "      <th></th>\n",
       "      <th>id</th>\n",
       "      <th>comment_text</th>\n",
       "      <th>target</th>\n",
       "    </tr>\n",
       "  </thead>\n",
       "  <tbody>\n",
       "    <tr>\n",
       "      <th>0</th>\n",
       "      <td>6101457</td>\n",
       "      <td>What are you talking about? What group do Pete...</td>\n",
       "      <td>0.0</td>\n",
       "    </tr>\n",
       "    <tr>\n",
       "      <th>1</th>\n",
       "      <td>5342103</td>\n",
       "      <td>NO!, Let him, we need a Conservative government.</td>\n",
       "      <td>0.0</td>\n",
       "    </tr>\n",
       "    <tr>\n",
       "      <th>2</th>\n",
       "      <td>743361</td>\n",
       "      <td>Perhaps he took the \"power out of the Cardinal...</td>\n",
       "      <td>0.2</td>\n",
       "    </tr>\n",
       "    <tr>\n",
       "      <th>3</th>\n",
       "      <td>551008</td>\n",
       "      <td>As always, yours is dripping with sarcasm, whi...</td>\n",
       "      <td>0.0</td>\n",
       "    </tr>\n",
       "    <tr>\n",
       "      <th>4</th>\n",
       "      <td>865998</td>\n",
       "      <td>The dirty little secret is that the price rang...</td>\n",
       "      <td>0.3</td>\n",
       "    </tr>\n",
       "  </tbody>\n",
       "</table>\n",
       "</div>"
      ],
      "text/plain": [
       "        id                                       comment_text  target\n",
       "0  6101457  What are you talking about? What group do Pete...     0.0\n",
       "1  5342103   NO!, Let him, we need a Conservative government.     0.0\n",
       "2   743361  Perhaps he took the \"power out of the Cardinal...     0.2\n",
       "3   551008  As always, yours is dripping with sarcasm, whi...     0.0\n",
       "4   865998  The dirty little secret is that the price rang...     0.3"
      ]
     },
     "execution_count": 3,
     "metadata": {},
     "output_type": "execute_result"
    }
   ],
   "source": [
    "# Carga de datos de archivos .csv\n",
    "df = pd.read_csv('https://raw.githubusercontent.com/albahnsen/MIAD_ML_and_NLP/main/datasets/Toxicity.zip')\n",
    "df = df[['id','comment_text', 'target']]\n",
    "df.head()"
   ]
  },
  {
   "cell_type": "code",
   "execution_count": 4,
   "metadata": {},
   "outputs": [
    {
     "data": {
      "text/plain": [
       "<AxesSubplot:>"
      ]
     },
     "execution_count": 4,
     "metadata": {},
     "output_type": "execute_result"
    },
    {
     "data": {
      "image/png": "[encoded data removed]",
      "text/plain": [
       "<Figure size 432x288 with 1 Axes>"
      ]
     },
     "metadata": {
      "needs_background": "light"
     },
     "output_type": "display_data"
    }
   ],
   "source": [
    "# Impresión histograma de variable de interés (y)\n",
    "df.target.hist()"
   ]
  },
  {
   "cell_type": "code",
   "execution_count": 5,
   "metadata": {},
   "outputs": [
    {
     "data": {
      "text/plain": [
       "count    541462.000000\n",
       "mean          0.102991\n",
       "std           0.196979\n",
       "min           0.000000\n",
       "25%           0.000000\n",
       "50%           0.000000\n",
       "75%           0.166667\n",
       "max           1.000000\n",
       "Name: target, dtype: float64"
      ]
     },
     "execution_count": 5,
     "metadata": {},
     "output_type": "execute_result"
    }
   ],
   "source": [
    "# Separación de variable de interés (y)\n",
    "y = df.target\n",
    "y.describe()"
   ]
  },
  {
   "cell_type": "code",
   "execution_count": 6,
   "metadata": {},
   "outputs": [],
   "source": [
    "# Separación de variables predictoras (X), solo se considera el texto de la noticia\n",
    "X = df.comment_text"
   ]
  },
  {
   "cell_type": "code",
   "execution_count": 7,
   "metadata": {},
   "outputs": [],
   "source": [
    "# Separación de datos en set de entrenamiento y test\n",
    "X_train, X_test, y_train, y_test = train_test_split(X, y, test_size=0.33, random_state=42)"
   ]
  },
  {
   "cell_type": "markdown",
   "metadata": {},
   "source": [
    "## Punto 1 - Tokenización con CountVectorizer\n",
    "\n",
    "En la celda 1 creen y entrenen el modelo de regresión de su preferencia, para que prediga la probabilidad de que un comentario sea tóxico, usando los set de entrenamiento y test definidos anteriormente. Usen la función **CountVectorizer** para preprocesar los comentarios y presenten el desempeño del modelo con la métrica del MSE.\n",
    "\n",
    "Recuerden que el preprocesamiento que se haga sobre los datos de entrenamiento  (*.fit_transform()*) deben ser aplicado al set de test (*.transform()*)."
   ]
  },
  {
   "cell_type": "code",
   "execution_count": 8,
   "metadata": {},
   "outputs": [
    {
     "name": "stdout",
     "output_type": "stream",
     "text": [
      "Mean Absolute Error: 0.14477847403542643\n",
      "Root Mean Squared Error: 0.1975382561196933\n",
      "Mean Squared Error: 0.039021362630809554\n"
     ]
    }
   ],
   "source": [
    "# Celda 1\n",
    "# Train\n",
    "vect_A = CountVectorizer()\n",
    "X_train_dtm_A = vect_A.fit_transform(X_train)\n",
    "#temp_A_train=X_train_dtm_A.todense()\n",
    "# test\n",
    "X_test_dtm_A = vect_A.transform(X_test)\n",
    "#temp_A_test=X_test_dtm_A.todense()\n",
    "\n",
    "# Creación del modelo\n",
    "modelo = RandomForestRegressor()\n",
    "# Ajuste de parametros\n",
    "param_grid = {'n_jobs':[-1], \n",
    "              'n_estimators':[250], \n",
    "              'min_samples_split':[4], \n",
    "              'max_features':[3], \n",
    "              'max_depth':[2], \n",
    "              'random_state':[0]\n",
    "             }\n",
    "# Creación del GridSearchCV \n",
    "grid_search = GridSearchCV(modelo, param_grid, scoring='neg_mean_squared_error', cv=5)\n",
    "# Formulacion de modelo \n",
    "grid_search.fit(X_train_dtm_A, y_train)\n",
    "# Formulando los parámetros con mejor desempeño\n",
    "best_model = grid_search.best_estimator_\n",
    "\n",
    "# Predicciones\n",
    "P_RF_A = best_model.predict(X_test_dtm_A)\n",
    "\n",
    "#Verificamos el desempeño del modelo\n",
    "mae_rfA = metrics.mean_absolute_error(y_test, P_RF_A)\n",
    "rmse_rfA = metrics.mean_squared_error(y_test, P_RF_A, squared=False)\n",
    "mse_rfA = metrics.mean_squared_error(y_test, P_RF_A)\n",
    "\n",
    "print(\"Mean Absolute Error:\", mae_rfA)\n",
    "print(\"Root Mean Squared Error:\", rmse_rfA)\n",
    "print(\"Mean Squared Error:\", mse_rfA)"
   ]
  },
  {
   "cell_type": "markdown",
   "metadata": {},
   "source": [
    "## Punto 2 - Tokenización con CountVectorizer y trigramas\n",
    "\n",
    "En la celda 2 creen y entrenen el mismo modelo de regresión del punto anterior (es decir si usaron un RandomForestRegresor usen nuevamente ese regresor), para que prediga la probabilidad de que un comentario sea tóxico, usando los set de entrenamiento y test definidos anteriormente. Usen la función CountVectorizer **considerando trigramas** para preprocesar los comentarios y presenten el desempeño del modelo con la métrica del MSE.\n",
    "\n",
    "Recuerden que el preprocesamiento que se haga sobre los datos de entrenamiento  (*.fit_transform()*) deben ser aplicado al set de test (*.transform()*)."
   ]
  },
  {
   "cell_type": "code",
   "execution_count": 9,
   "metadata": {},
   "outputs": [
    {
     "name": "stdout",
     "output_type": "stream",
     "text": [
      "Mean Absolute Error: 0.14479364123554175\n",
      "Root Mean Squared Error: 0.19756917758369624\n",
      "Mean Squared Error: 0.0390335799310981\n"
     ]
    }
   ],
   "source": [
    "# Celda 2\n",
    "# Train\n",
    "vect_B = CountVectorizer(lowercase=False, ngram_range=(3, 3))\n",
    "X_train_dtm_B = vect_B.fit_transform(X_train)\n",
    "#temp_A_train=X_train_dtm_A.todense()\n",
    "# test\n",
    "X_test_dtm_B = vect_B.transform(X_test)\n",
    "#temp_A_test=X_test_dtm_A.todense()\n",
    "\n",
    "# Creación del modelo\n",
    "modelo = RandomForestRegressor()\n",
    "# Ajuste de parametros\n",
    "param_grid = {'n_jobs':[-1], \n",
    "              'n_estimators':[250], \n",
    "              'min_samples_split':[4], \n",
    "              'max_features':[3], \n",
    "              'max_depth':[2], \n",
    "              'random_state':[0]\n",
    "             }\n",
    "# Creación del GridSearchCV \n",
    "grid_search = GridSearchCV(modelo, param_grid, scoring='neg_mean_squared_error', cv=5)\n",
    "# Formulacion de modelo \n",
    "grid_search.fit(X_train_dtm_B, y_train)\n",
    "# Formulando los parámetros con mejor desempeño\n",
    "best_model = grid_search.best_estimator_\n",
    "\n",
    "# Predicciones\n",
    "P_RF_B = best_model.predict(X_test_dtm_B)\n",
    "\n",
    "#Verificamos el desempeño del modelo\n",
    "mae_rfB = metrics.mean_absolute_error(y_test, P_RF_B)\n",
    "rmse_rfB = metrics.mean_squared_error(y_test, P_RF_B, squared=False)\n",
    "mse_rfB = metrics.mean_squared_error(y_test, P_RF_B)\n",
    "\n",
    "print(\"Mean Absolute Error:\", mae_rfB)\n",
    "print(\"Root Mean Squared Error:\", rmse_rfB)\n",
    "print(\"Mean Squared Error:\", mse_rfB)"
   ]
  },
  {
   "cell_type": "markdown",
   "metadata": {},
   "source": [
    "## Punto 3 - TfidfVectorizer\n",
    "\n",
    "Investigen sobre la función TfidfVectorizer. En la celda de texto 3, expliquen en qué consiste esta técnica de tokenización (describanla y expliquen su funcionamiento) y cúales son las ventajas o deventajas de su uso al compararlo con la función CountVectorizer."
   ]
  },
  {
   "cell_type": "markdown",
   "metadata": {},
   "source": [
    "**Respuesta**\n",
    "\n",
    "TfidfVectorizer es usado para identificar patrones y/o relaciones dentro de los datos de texto, haciéndola una técnica utilizada para recolección de información, sentiment analysis, clasificación de texto, etc.\n",
    "Nos permite identificar las frases o palabras más relevantes en un texto. \n",
    "\n",
    "Al contar la frecuencia de cada palabra en cada documento(TF), multiplica ese resultado por el IDF( frecuencia inversa del documento). Esto produce un score que da a conocer la importancia de cada palabra en cada registro de todo el dataset. El resutado de TfidfVectorizer es una matriz donde la primera fila corresponde a las palabras únicas en el dataset y las siguientes filas representan el score de cada palabra en cada registro del dataset.\n",
    "\n",
    "A comparación de CountVectorizer, TfidfVectorizer es un método más sofisticado que considera la frecuencia de la palabra(TF) y el IDF y les asigna un score normalizado. Por otro lado, CountVectorizer es una técnica que se basa en el conteo de palabras por registro.\n",
    "\n",
    "Las ventajas de esta técnica es que captura la importancia de las palabras no solo por frecuencia en cada registro, sino todo el dataset. Adicionalmente, al tener como resultado un score numérico estandarizado permite una fácil implementación a modelos de machine learning. TfidfVectorizer tiene también un buen desempeño sentiment analysis ya que logra asignar un peso más alto a palabras menos comunes que tienen un fuerte sentimiento, en lugar de solo palabras que se repiten con frecuencia, mejorando de esta manera la precisión de los modelos.\n",
    "\n",
    "\n",
    "En comparación al buen desempeño que CountVectorizer tiene en textos cortos, TfidfVectorizer requerirá una calibración de parámetros más profunda. Asimismo, a pesar de su buen desempeño para procesar grandes cantidades de texto, TfidfVectorizer requerirá de un costo computacional más alto.\n"
   ]
  },
  {
   "cell_type": "markdown",
   "metadata": {},
   "source": [
    "#### CountVectorizer\n",
    "Las ventajas de esta técnica son su facilidad de implementación, la interpretabilidad de sus resultados (conteo de palabra) y su bajo costo computacional a la hora de procesar grandes cantidades de texto. \n",
    "\n",
    "Sin embargo, CountVectorizer puede causar ruido en el modelo ya que al centrarse en el conteo de las palabras, es sensible a las \"stop words\" como \"la\", \"a\", \"the\" . Asimismo, no logrará capturar completamente la importancia de las palabras ni semántica del texto debido a que se enfoca en la frecuencia de palabras por registro."
   ]
  },
  {
   "cell_type": "markdown",
   "metadata": {},
   "source": [
    "*Referencias:*\n",
    "\n",
    "https://www.analyticsvidhya.com/blog/2021/07/bag-of-words-vs-tfidf-vectorization-a-hands-on-tutorial/\n",
    "\n",
    "https://enjoymachinelearning.com/blog/countvectorizer-vs-tfidfvectorizer/\n",
    "\n",
    "https://medium.com/@cmukesh8688/tf-idf-vectorizer-scikit-learn-dbc0244a911a\n",
    "\n",
    "https://medium.com/artificial-coder/count-vectorizers-vs-tfidf-vectorizers-natural-language-processing-b5371f51a40c"
   ]
  },
  {
   "cell_type": "markdown",
   "metadata": {},
   "source": [
    "## Punto 4 - Tokenización con TfidfVectorizer\n",
    "\n",
    "En la celda 4 creen y entrenen el mismo modelo de regresión del primer punto, para que prediga la probabilidad de que un comentario sea tóxico, usando los set de entrenamiento y test definidos anteriormente. Procesen los comentarios con la función **TfidfVectorizer** y presenten el desempeño del modelo con la métrica del MSE.\n",
    "\n",
    "Recuerden que el preprocesamiento que se haga sobre los datos de entrenamiento  (*.fit_transform()*) deben ser aplicado al set de test (*.transform()*)."
   ]
  },
  {
   "cell_type": "code",
   "execution_count": 10,
   "metadata": {},
   "outputs": [
    {
     "name": "stdout",
     "output_type": "stream",
     "text": [
      "Mean Absolute Error: 0.14479361915917885\n",
      "Root Mean Squared Error: 0.19756916778782174\n",
      "Mean Squared Error: 0.03903357606037246\n"
     ]
    }
   ],
   "source": [
    "# Celda 4\n",
    "# Train\n",
    "vectorizer_C = TfidfVectorizer(lowercase=False, ngram_range=(3, 3))\n",
    "X_train_dtm_C = vectorizer_C.fit_transform(X_train)\n",
    "#temp_A_train=X_train_dtm_A.todense()\n",
    "# test\n",
    "X_test_dtm_C = vectorizer_C.transform(X_test)\n",
    "#temp_A_test=X_test_dtm_A.todense()\n",
    "\n",
    "# Creación del modelo\n",
    "modelo = RandomForestRegressor()\n",
    "# Ajuste de parametros\n",
    "param_grid = {'n_jobs':[-1], \n",
    "              'n_estimators':[250], \n",
    "              'min_samples_split':[4], \n",
    "              'max_features':[3], \n",
    "              'max_depth':[2], \n",
    "              'random_state':[0]\n",
    "             }\n",
    "# Creación del GridSearchCV \n",
    "grid_search = GridSearchCV(modelo, param_grid, scoring='neg_mean_squared_error', cv=5)\n",
    "# Formulacion de modelo \n",
    "grid_search.fit(X_train_dtm_C, y_train)\n",
    "# Formulando los parámetros con mejor desempeño\n",
    "best_model = grid_search.best_estimator_\n",
    "\n",
    "# Predicciones\n",
    "P_RF_C = best_model.predict(X_test_dtm_C)\n",
    "\n",
    "#Verificamos el desempeño del modelo\n",
    "mae_rfC = metrics.mean_absolute_error(y_test, P_RF_C)\n",
    "rmse_rfC = metrics.mean_squared_error(y_test, P_RF_C, squared=False)\n",
    "mse_rfC = metrics.mean_squared_error(y_test, P_RF_C)\n",
    "\n",
    "print(\"Mean Absolute Error:\", mae_rfC)\n",
    "print(\"Root Mean Squared Error:\", rmse_rfC)\n",
    "print(\"Mean Squared Error:\", mse_rfC)"
   ]
  },
  {
   "cell_type": "markdown",
   "metadata": {},
   "source": [
    "## Punto 5 - Comparación y análisis de resultados\n",
    "\n",
    "En la celda 5 comparen los resultados obtenidos de los diferentes modelos y comenten cómo el preprocesamiento de texto afecta el desempeño."
   ]
  },
  {
   "cell_type": "code",
   "execution_count": 11,
   "metadata": {},
   "outputs": [
    {
     "data": {
      "image/png": "[encoded data removed]",
      "text/plain": [
       "<Figure size 360x180 with 1 Axes>"
      ]
     },
     "metadata": {
      "needs_background": "light"
     },
     "output_type": "display_data"
    }
   ],
   "source": [
    "# Celda 5\n",
    "\n",
    "# MAE\n",
    "fig = plt.figure(figsize = (5,2.5))\n",
    "ax = fig.add_axes([0,0,1,1])\n",
    "ax.set_title(\"MAE\")\n",
    "ejeX = ['Punto 1 - A', 'Punto 2 - B', 'Punto 3 - C']\n",
    "ejeY = [round(mae_rfA, 8), round(mae_rfB, 8), round(mae_rfC, 8)]\n",
    "ax.bar(ejeX, ejeY, color = '#3d405b')\n",
    "def addlabels(x,y,plotP):\n",
    "    for i in range(len(x)):\n",
    "        plotP.text(i,y[i],y[i])\n",
    "addlabels(ejeX,ejeY,plt)\n",
    "plt.show();"
   ]
  },
  {
   "cell_type": "code",
   "execution_count": 12,
   "metadata": {},
   "outputs": [
    {
     "data": {
      "image/png": "[encoded data removed]",
      "text/plain": [
       "<Figure size 360x180 with 1 Axes>"
      ]
     },
     "metadata": {
      "needs_background": "light"
     },
     "output_type": "display_data"
    }
   ],
   "source": [
    "# RMSE\n",
    "fig = plt.figure(figsize = (5,2.5))\n",
    "ax = fig.add_axes([0,0,1,1])\n",
    "ax.set_title(\"RMSE\")\n",
    "ejeX = ['Punto 1 - A', 'Punto 2 - B', 'Punto 3 - C']\n",
    "ejeY = [round(rmse_rfA, 8), round(rmse_rfB, 8), round(rmse_rfC, 8)]\n",
    "ax.bar(ejeX, ejeY, color = '#ccd5ae')\n",
    "def addlabels(x,y,plotP):\n",
    "    for i in range(len(x)):\n",
    "        plotP.text(i,y[i],y[i])\n",
    "addlabels(ejeX,ejeY,plt)\n",
    "plt.show();"
   ]
  },
  {
   "cell_type": "code",
   "execution_count": 13,
   "metadata": {},
   "outputs": [
    {
     "data": {
      "image/png": "[encoded data removed]",
      "text/plain": [
       "<Figure size 360x180 with 1 Axes>"
      ]
     },
     "metadata": {
      "needs_background": "light"
     },
     "output_type": "display_data"
    }
   ],
   "source": [
    "# MSE\n",
    "fig = plt.figure(figsize = (5,2.5))\n",
    "ax = fig.add_axes([0,0,1,1])\n",
    "ax.set_title(\"MSE\")\n",
    "ejeX = ['Punto 1 - A', 'Punto 2 - B', 'Punto 3 - C']\n",
    "ejeY = [round(mse_rfA, 8), round(mse_rfB, 8), round(mse_rfC, 8)]\n",
    "ax.bar(ejeX, ejeY, color = '#8ecae6')\n",
    "def addlabels(x,y,plotP):\n",
    "    for i in range(len(x)):\n",
    "        plotP.text(i,y[i],y[i])\n",
    "addlabels(ejeX,ejeY,plt)\n",
    "plt.show();"
   ]
  },
  {
   "cell_type": "markdown",
   "metadata": {},
   "source": [
    "En el caso del ejercicio encontramos que, al emplear un randomforest regressor, realmente no habían diferencias significativas en el desempeño de los diferentes modelos. \n",
    "\n",
    "Inicialmente se esperaría que por ejemplo un modelo con TfidfVectorizer presentara mejores resultados, pero a pesar de sus ventajas teóricas no logró superar a los demás. \n",
    "\n",
    "Este comportamiento se podría explicar por el ajuste inicial de parámetros y el crossvalidation realizado en todos los modelos ejecutados. Se recomienda emplear otros tipos de regresores y validaciones para seguir explorando las diferencias entre los diferentes tipos de tokenización. "
   ]
  }
 ],
 "metadata": {
  "kernelspec": {
   "display_name": "Python 3 (ipykernel)",
   "language": "python",
   "name": "python3"
  },
  "language_info": {
   "codemirror_mode": {
    "name": "ipython",
    "version": 3
   },
   "file_extension": ".py",
   "mimetype": "text/x-python",
   "name": "python",
   "nbconvert_exporter": "python",
   "pygments_lexer": "ipython3",
   "version": "3.9.7"
  },
  "name": "_merged"
 },
 "nbformat": 4,
 "nbformat_minor": 4
}
